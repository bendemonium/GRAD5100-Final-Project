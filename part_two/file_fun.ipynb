{
 "cells": [
  {
   "cell_type": "code",
   "execution_count": 5,
   "metadata": {
    "id": "w3ohw5nQjBIs"
   },
   "outputs": [],
   "source": [
    "import os"
   ]
  },
  {
   "cell_type": "code",
   "execution_count": 6,
   "metadata": {
    "id": "Jk0CP3JakFxV"
   },
   "outputs": [],
   "source": [
    "def name_gen(code):\n",
    "  name = code[6:11]\n",
    "  ext = code[12:-1]\n",
    "  file_name = name + '.' + ext\n",
    "  return file_name"
   ]
  },
  {
   "cell_type": "code",
   "execution_count": 8,
   "metadata": {
    "id": "Myvpk2P9mSOH"
   },
   "outputs": [],
   "source": [
    "os.mkdir('expanded')"
   ]
  },
  {
   "cell_type": "code",
   "execution_count": 9,
   "metadata": {
    "id": "KNGA0_UXnYCm"
   },
   "outputs": [],
   "source": [
    "codes = open(\"codes.txt\", \"r\")\n",
    "\n",
    "while True:\n",
    "  code = codes.readline()\n",
    "  if not code:\n",
    "    break\n",
    "  file_name = name_gen(code)\n",
    "  text = code[:5]\n",
    "  path = 'expanded/' + file_name\n",
    "  curr_file = open(path, 'w')\n",
    "  curr_file.write(text)\n",
    "  curr_file.close()\n",
    "\n",
    "codes.close()"
   ]
  },
  {
   "cell_type": "code",
   "execution_count": null,
   "metadata": {},
   "outputs": [],
   "source": []
  }
 ],
 "metadata": {
  "colab": {
   "provenance": []
  },
  "kernelspec": {
   "display_name": "Python 3 (ipykernel)",
   "language": "python",
   "name": "python3"
  },
  "language_info": {
   "codemirror_mode": {
    "name": "ipython",
    "version": 3
   },
   "file_extension": ".py",
   "mimetype": "text/x-python",
   "name": "python",
   "nbconvert_exporter": "python",
   "pygments_lexer": "ipython3",
   "version": "3.9.13"
  }
 },
 "nbformat": 4,
 "nbformat_minor": 4
}
