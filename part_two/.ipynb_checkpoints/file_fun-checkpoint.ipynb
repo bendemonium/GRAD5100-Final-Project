{
  "nbformat": 4,
  "nbformat_minor": 0,
  "metadata": {
    "colab": {
      "provenance": []
    },
    "kernelspec": {
      "name": "python3",
      "display_name": "Python 3"
    },
    "language_info": {
      "name": "python"
    }
  },
  "cells": [
    {
      "cell_type": "code",
      "execution_count": 2,
      "metadata": {
        "id": "w3ohw5nQjBIs"
      },
      "outputs": [],
      "source": [
        "import os"
      ]
    },
    {
      "cell_type": "code",
      "source": [
        "def name_gen(code):\n",
        "  name = code[6:11]\n",
        "  ext = code[12:]\n",
        "  file_name = name + '.' + ext\n",
        "  return file_name"
      ],
      "metadata": {
        "id": "Jk0CP3JakFxV"
      },
      "execution_count": 3,
      "outputs": []
    },
    {
      "cell_type": "code",
      "source": [
        "os.mkdir('expanded')"
      ],
      "metadata": {
        "id": "Myvpk2P9mSOH"
      },
      "execution_count": 4,
      "outputs": []
    },
    {
      "cell_type": "code",
      "source": [
        "codes = open(\"codes.txt\", \"r\")\n",
        "\n",
        "while True:\n",
        "  code = codes.readline()\n",
        "  if not code:\n",
        "    break\n",
        "  file_name = name_gen(code)\n",
        "  text = code[:5]\n",
        "  path = 'expanded/' + file_name\n",
        "  curr_file = open(path, 'w')\n",
        "  curr_file.write(text)\n",
        "  curr_file.close()\n",
        "\n",
        "codes.close()"
      ],
      "metadata": {
        "id": "KNGA0_UXnYCm"
      },
      "execution_count": 6,
      "outputs": []
    }
  ]
}