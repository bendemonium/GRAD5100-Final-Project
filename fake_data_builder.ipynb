{
  "nbformat": 4,
  "nbformat_minor": 0,
  "metadata": {
    "colab": {
      "provenance": []
    },
    "kernelspec": {
      "name": "python3",
      "display_name": "Python 3"
    },
    "language_info": {
      "name": "python"
    }
  },
  "cells": [
    {
      "cell_type": "code",
      "execution_count": 74,
      "metadata": {
        "id": "x10y8CEU0rHH"
      },
      "outputs": [],
      "source": [
        "import numpy as np\n",
        "import pandas as pd\n",
        "import matplotlib.pyplot as plt"
      ]
    },
    {
      "cell_type": "markdown",
      "source": [
        "**1. Create a dataframe or tibble representing this dataset that has the desired properties.**"
      ],
      "metadata": {
        "id": "MhRavFfAgoGO"
      }
    },
    {
      "cell_type": "code",
      "source": [
        "id_nums = np.random.choice(np.arange(100, 999), replace=False, size=(800))\n",
        "id = []\n",
        "for num in id_nums:\n",
        "  id.append('ID'+str(num))"
      ],
      "metadata": {
        "id": "3MU5DnEZ03MT"
      },
      "execution_count": 23,
      "outputs": []
    },
    {
      "cell_type": "code",
      "source": [
        "groups = ['A']*267 + ['B']*267 + ['C']*266"
      ],
      "metadata": {
        "id": "C78GzASgVa4p"
      },
      "execution_count": 48,
      "outputs": []
    },
    {
      "cell_type": "code",
      "source": [
        "feature1 = np.random.normal(2500, 300, 800)"
      ],
      "metadata": {
        "id": "XqFiVmbwXaoe"
      },
      "execution_count": 68,
      "outputs": []
    },
    {
      "cell_type": "code",
      "source": [
        "feature2 = np.random.normal(400, 15, 800)"
      ],
      "metadata": {
        "id": "m44hlurWX3s9"
      },
      "execution_count": 50,
      "outputs": []
    },
    {
      "cell_type": "code",
      "source": [
        "feat3_a = 3*feature1[:267] - 5*feature2[:267] + np.random.normal(0, 12, 267)\n",
        "feat3_b = 2*feature1[267:534] + np.random.normal(0, 12, 267)\n",
        "feat3_c = feature2[534:] - feature1[534:] + np.random.normal(0, 12, 266)\n",
        "feature3 = np.concatenate((feat3_a,feat3_b,feat3_c), axis=None)"
      ],
      "metadata": {
        "id": "QzdJyyX2Z3BG"
      },
      "execution_count": 58,
      "outputs": []
    },
    {
      "cell_type": "code",
      "source": [
        "df = pd.DataFrame({'ID': id, 'Group': groups, 'Feature_1': feature1, 'Feature_2': feature2, 'Feature_3': feature3})\n",
        "df = df.sample(frac=1).reset_index(drop=True)"
      ],
      "metadata": {
        "id": "DVas8EtSYN_G"
      },
      "execution_count": 63,
      "outputs": []
    },
    {
      "cell_type": "code",
      "source": [
        "df"
      ],
      "metadata": {
        "colab": {
          "base_uri": "https://localhost:8080/",
          "height": 419
        },
        "id": "FOZkwgBDYq53",
        "outputId": "1c9063bb-9f2d-49ca-dd87-3542462c3722"
      },
      "execution_count": 69,
      "outputs": [
        {
          "output_type": "execute_result",
          "data": {
            "text/plain": [
              "        ID Group    Feature_1   Feature_2    Feature_3\n",
              "0    ID503     A  2312.339528  395.889122  4962.701261\n",
              "1    ID438     B  2474.474771  400.982788  4954.030841\n",
              "2    ID797     A  2925.837140  396.985584  6781.374794\n",
              "3    ID194     B  2265.867075  397.116135  4528.283354\n",
              "4    ID377     C  2456.506482  394.958205 -2056.271533\n",
              "..     ...   ...          ...         ...          ...\n",
              "795  ID155     B  2134.466756  381.726415  4280.025828\n",
              "796  ID509     A  2536.164840  373.474535  5737.426441\n",
              "797  ID595     A  2564.764092  370.528002  5838.679624\n",
              "798  ID355     A  2739.434511  374.444243  6326.617196\n",
              "799  ID277     B  3205.990596  399.461397  6426.188474\n",
              "\n",
              "[800 rows x 5 columns]"
            ],
            "text/html": [
              "\n",
              "  <div id=\"df-0fa43620-9b96-41b8-842d-209c65ce6417\" class=\"colab-df-container\">\n",
              "    <div>\n",
              "<style scoped>\n",
              "    .dataframe tbody tr th:only-of-type {\n",
              "        vertical-align: middle;\n",
              "    }\n",
              "\n",
              "    .dataframe tbody tr th {\n",
              "        vertical-align: top;\n",
              "    }\n",
              "\n",
              "    .dataframe thead th {\n",
              "        text-align: right;\n",
              "    }\n",
              "</style>\n",
              "<table border=\"1\" class=\"dataframe\">\n",
              "  <thead>\n",
              "    <tr style=\"text-align: right;\">\n",
              "      <th></th>\n",
              "      <th>ID</th>\n",
              "      <th>Group</th>\n",
              "      <th>Feature_1</th>\n",
              "      <th>Feature_2</th>\n",
              "      <th>Feature_3</th>\n",
              "    </tr>\n",
              "  </thead>\n",
              "  <tbody>\n",
              "    <tr>\n",
              "      <th>0</th>\n",
              "      <td>ID503</td>\n",
              "      <td>A</td>\n",
              "      <td>2312.339528</td>\n",
              "      <td>395.889122</td>\n",
              "      <td>4962.701261</td>\n",
              "    </tr>\n",
              "    <tr>\n",
              "      <th>1</th>\n",
              "      <td>ID438</td>\n",
              "      <td>B</td>\n",
              "      <td>2474.474771</td>\n",
              "      <td>400.982788</td>\n",
              "      <td>4954.030841</td>\n",
              "    </tr>\n",
              "    <tr>\n",
              "      <th>2</th>\n",
              "      <td>ID797</td>\n",
              "      <td>A</td>\n",
              "      <td>2925.837140</td>\n",
              "      <td>396.985584</td>\n",
              "      <td>6781.374794</td>\n",
              "    </tr>\n",
              "    <tr>\n",
              "      <th>3</th>\n",
              "      <td>ID194</td>\n",
              "      <td>B</td>\n",
              "      <td>2265.867075</td>\n",
              "      <td>397.116135</td>\n",
              "      <td>4528.283354</td>\n",
              "    </tr>\n",
              "    <tr>\n",
              "      <th>4</th>\n",
              "      <td>ID377</td>\n",
              "      <td>C</td>\n",
              "      <td>2456.506482</td>\n",
              "      <td>394.958205</td>\n",
              "      <td>-2056.271533</td>\n",
              "    </tr>\n",
              "    <tr>\n",
              "      <th>...</th>\n",
              "      <td>...</td>\n",
              "      <td>...</td>\n",
              "      <td>...</td>\n",
              "      <td>...</td>\n",
              "      <td>...</td>\n",
              "    </tr>\n",
              "    <tr>\n",
              "      <th>795</th>\n",
              "      <td>ID155</td>\n",
              "      <td>B</td>\n",
              "      <td>2134.466756</td>\n",
              "      <td>381.726415</td>\n",
              "      <td>4280.025828</td>\n",
              "    </tr>\n",
              "    <tr>\n",
              "      <th>796</th>\n",
              "      <td>ID509</td>\n",
              "      <td>A</td>\n",
              "      <td>2536.164840</td>\n",
              "      <td>373.474535</td>\n",
              "      <td>5737.426441</td>\n",
              "    </tr>\n",
              "    <tr>\n",
              "      <th>797</th>\n",
              "      <td>ID595</td>\n",
              "      <td>A</td>\n",
              "      <td>2564.764092</td>\n",
              "      <td>370.528002</td>\n",
              "      <td>5838.679624</td>\n",
              "    </tr>\n",
              "    <tr>\n",
              "      <th>798</th>\n",
              "      <td>ID355</td>\n",
              "      <td>A</td>\n",
              "      <td>2739.434511</td>\n",
              "      <td>374.444243</td>\n",
              "      <td>6326.617196</td>\n",
              "    </tr>\n",
              "    <tr>\n",
              "      <th>799</th>\n",
              "      <td>ID277</td>\n",
              "      <td>B</td>\n",
              "      <td>3205.990596</td>\n",
              "      <td>399.461397</td>\n",
              "      <td>6426.188474</td>\n",
              "    </tr>\n",
              "  </tbody>\n",
              "</table>\n",
              "<p>800 rows × 5 columns</p>\n",
              "</div>\n",
              "    <div class=\"colab-df-buttons\">\n",
              "\n",
              "  <div class=\"colab-df-container\">\n",
              "    <button class=\"colab-df-convert\" onclick=\"convertToInteractive('df-0fa43620-9b96-41b8-842d-209c65ce6417')\"\n",
              "            title=\"Convert this dataframe to an interactive table.\"\n",
              "            style=\"display:none;\">\n",
              "\n",
              "  <svg xmlns=\"http://www.w3.org/2000/svg\" height=\"24px\" viewBox=\"0 -960 960 960\">\n",
              "    <path d=\"M120-120v-720h720v720H120Zm60-500h600v-160H180v160Zm220 220h160v-160H400v160Zm0 220h160v-160H400v160ZM180-400h160v-160H180v160Zm440 0h160v-160H620v160ZM180-180h160v-160H180v160Zm440 0h160v-160H620v160Z\"/>\n",
              "  </svg>\n",
              "    </button>\n",
              "\n",
              "  <style>\n",
              "    .colab-df-container {\n",
              "      display:flex;\n",
              "      gap: 12px;\n",
              "    }\n",
              "\n",
              "    .colab-df-convert {\n",
              "      background-color: #E8F0FE;\n",
              "      border: none;\n",
              "      border-radius: 50%;\n",
              "      cursor: pointer;\n",
              "      display: none;\n",
              "      fill: #1967D2;\n",
              "      height: 32px;\n",
              "      padding: 0 0 0 0;\n",
              "      width: 32px;\n",
              "    }\n",
              "\n",
              "    .colab-df-convert:hover {\n",
              "      background-color: #E2EBFA;\n",
              "      box-shadow: 0px 1px 2px rgba(60, 64, 67, 0.3), 0px 1px 3px 1px rgba(60, 64, 67, 0.15);\n",
              "      fill: #174EA6;\n",
              "    }\n",
              "\n",
              "    .colab-df-buttons div {\n",
              "      margin-bottom: 4px;\n",
              "    }\n",
              "\n",
              "    [theme=dark] .colab-df-convert {\n",
              "      background-color: #3B4455;\n",
              "      fill: #D2E3FC;\n",
              "    }\n",
              "\n",
              "    [theme=dark] .colab-df-convert:hover {\n",
              "      background-color: #434B5C;\n",
              "      box-shadow: 0px 1px 3px 1px rgba(0, 0, 0, 0.15);\n",
              "      filter: drop-shadow(0px 1px 2px rgba(0, 0, 0, 0.3));\n",
              "      fill: #FFFFFF;\n",
              "    }\n",
              "  </style>\n",
              "\n",
              "    <script>\n",
              "      const buttonEl =\n",
              "        document.querySelector('#df-0fa43620-9b96-41b8-842d-209c65ce6417 button.colab-df-convert');\n",
              "      buttonEl.style.display =\n",
              "        google.colab.kernel.accessAllowed ? 'block' : 'none';\n",
              "\n",
              "      async function convertToInteractive(key) {\n",
              "        const element = document.querySelector('#df-0fa43620-9b96-41b8-842d-209c65ce6417');\n",
              "        const dataTable =\n",
              "          await google.colab.kernel.invokeFunction('convertToInteractive',\n",
              "                                                    [key], {});\n",
              "        if (!dataTable) return;\n",
              "\n",
              "        const docLinkHtml = 'Like what you see? Visit the ' +\n",
              "          '<a target=\"_blank\" href=https://colab.research.google.com/notebooks/data_table.ipynb>data table notebook</a>'\n",
              "          + ' to learn more about interactive tables.';\n",
              "        element.innerHTML = '';\n",
              "        dataTable['output_type'] = 'display_data';\n",
              "        await google.colab.output.renderOutput(dataTable, element);\n",
              "        const docLink = document.createElement('div');\n",
              "        docLink.innerHTML = docLinkHtml;\n",
              "        element.appendChild(docLink);\n",
              "      }\n",
              "    </script>\n",
              "  </div>\n",
              "\n",
              "\n",
              "<div id=\"df-a72ccbd6-f339-44c9-b2ca-d3b7d239d184\">\n",
              "  <button class=\"colab-df-quickchart\" onclick=\"quickchart('df-a72ccbd6-f339-44c9-b2ca-d3b7d239d184')\"\n",
              "            title=\"Suggest charts\"\n",
              "            style=\"display:none;\">\n",
              "\n",
              "<svg xmlns=\"http://www.w3.org/2000/svg\" height=\"24px\"viewBox=\"0 0 24 24\"\n",
              "     width=\"24px\">\n",
              "    <g>\n",
              "        <path d=\"M19 3H5c-1.1 0-2 .9-2 2v14c0 1.1.9 2 2 2h14c1.1 0 2-.9 2-2V5c0-1.1-.9-2-2-2zM9 17H7v-7h2v7zm4 0h-2V7h2v10zm4 0h-2v-4h2v4z\"/>\n",
              "    </g>\n",
              "</svg>\n",
              "  </button>\n",
              "\n",
              "<style>\n",
              "  .colab-df-quickchart {\n",
              "      --bg-color: #E8F0FE;\n",
              "      --fill-color: #1967D2;\n",
              "      --hover-bg-color: #E2EBFA;\n",
              "      --hover-fill-color: #174EA6;\n",
              "      --disabled-fill-color: #AAA;\n",
              "      --disabled-bg-color: #DDD;\n",
              "  }\n",
              "\n",
              "  [theme=dark] .colab-df-quickchart {\n",
              "      --bg-color: #3B4455;\n",
              "      --fill-color: #D2E3FC;\n",
              "      --hover-bg-color: #434B5C;\n",
              "      --hover-fill-color: #FFFFFF;\n",
              "      --disabled-bg-color: #3B4455;\n",
              "      --disabled-fill-color: #666;\n",
              "  }\n",
              "\n",
              "  .colab-df-quickchart {\n",
              "    background-color: var(--bg-color);\n",
              "    border: none;\n",
              "    border-radius: 50%;\n",
              "    cursor: pointer;\n",
              "    display: none;\n",
              "    fill: var(--fill-color);\n",
              "    height: 32px;\n",
              "    padding: 0;\n",
              "    width: 32px;\n",
              "  }\n",
              "\n",
              "  .colab-df-quickchart:hover {\n",
              "    background-color: var(--hover-bg-color);\n",
              "    box-shadow: 0 1px 2px rgba(60, 64, 67, 0.3), 0 1px 3px 1px rgba(60, 64, 67, 0.15);\n",
              "    fill: var(--button-hover-fill-color);\n",
              "  }\n",
              "\n",
              "  .colab-df-quickchart-complete:disabled,\n",
              "  .colab-df-quickchart-complete:disabled:hover {\n",
              "    background-color: var(--disabled-bg-color);\n",
              "    fill: var(--disabled-fill-color);\n",
              "    box-shadow: none;\n",
              "  }\n",
              "\n",
              "  .colab-df-spinner {\n",
              "    border: 2px solid var(--fill-color);\n",
              "    border-color: transparent;\n",
              "    border-bottom-color: var(--fill-color);\n",
              "    animation:\n",
              "      spin 1s steps(1) infinite;\n",
              "  }\n",
              "\n",
              "  @keyframes spin {\n",
              "    0% {\n",
              "      border-color: transparent;\n",
              "      border-bottom-color: var(--fill-color);\n",
              "      border-left-color: var(--fill-color);\n",
              "    }\n",
              "    20% {\n",
              "      border-color: transparent;\n",
              "      border-left-color: var(--fill-color);\n",
              "      border-top-color: var(--fill-color);\n",
              "    }\n",
              "    30% {\n",
              "      border-color: transparent;\n",
              "      border-left-color: var(--fill-color);\n",
              "      border-top-color: var(--fill-color);\n",
              "      border-right-color: var(--fill-color);\n",
              "    }\n",
              "    40% {\n",
              "      border-color: transparent;\n",
              "      border-right-color: var(--fill-color);\n",
              "      border-top-color: var(--fill-color);\n",
              "    }\n",
              "    60% {\n",
              "      border-color: transparent;\n",
              "      border-right-color: var(--fill-color);\n",
              "    }\n",
              "    80% {\n",
              "      border-color: transparent;\n",
              "      border-right-color: var(--fill-color);\n",
              "      border-bottom-color: var(--fill-color);\n",
              "    }\n",
              "    90% {\n",
              "      border-color: transparent;\n",
              "      border-bottom-color: var(--fill-color);\n",
              "    }\n",
              "  }\n",
              "</style>\n",
              "\n",
              "  <script>\n",
              "    async function quickchart(key) {\n",
              "      const quickchartButtonEl =\n",
              "        document.querySelector('#' + key + ' button');\n",
              "      quickchartButtonEl.disabled = true;  // To prevent multiple clicks.\n",
              "      quickchartButtonEl.classList.add('colab-df-spinner');\n",
              "      try {\n",
              "        const charts = await google.colab.kernel.invokeFunction(\n",
              "            'suggestCharts', [key], {});\n",
              "      } catch (error) {\n",
              "        console.error('Error during call to suggestCharts:', error);\n",
              "      }\n",
              "      quickchartButtonEl.classList.remove('colab-df-spinner');\n",
              "      quickchartButtonEl.classList.add('colab-df-quickchart-complete');\n",
              "    }\n",
              "    (() => {\n",
              "      let quickchartButtonEl =\n",
              "        document.querySelector('#df-a72ccbd6-f339-44c9-b2ca-d3b7d239d184 button');\n",
              "      quickchartButtonEl.style.display =\n",
              "        google.colab.kernel.accessAllowed ? 'block' : 'none';\n",
              "    })();\n",
              "  </script>\n",
              "</div>\n",
              "    </div>\n",
              "  </div>\n"
            ]
          },
          "metadata": {},
          "execution_count": 69
        }
      ]
    },
    {
      "cell_type": "markdown",
      "source": [
        "**2. a. Based on the theoretical distribution of Feature_1, how many samples do you expect to find where the value of the feature is greater than 3000?**\n",
        "\n",
        "Given that the feature mean is 2500 and 66% of the data falls between 2200 and 2800, and that this is a normal distribution, empirically, this means that one standard deviation is about 300. With this information it's clear that 3000 is about 1.66 standard deviations away from our mean. Theoretically, about 4.9% of the data lies above this z-score. That means around 40 samples would be greater than 3000."
      ],
      "metadata": {
        "id": "l5pA9gUGcMOA"
      }
    },
    {
      "cell_type": "markdown",
      "source": [
        "**2. b. How many samples did you actually find where Feature_1 is greater than 3000?**"
      ],
      "metadata": {
        "id": "LkD5m-18fOoS"
      }
    },
    {
      "cell_type": "code",
      "source": [
        "df['Feature_1'][df['Feature_1'] > 3000].count()"
      ],
      "metadata": {
        "colab": {
          "base_uri": "https://localhost:8080/"
        },
        "id": "gdhSfB9LeUrl",
        "outputId": "41d7b2ae-13b5-4624-cd77-dc7cba47a97b"
      },
      "execution_count": 70,
      "outputs": [
        {
          "output_type": "execute_result",
          "data": {
            "text/plain": [
              "45"
            ]
          },
          "metadata": {},
          "execution_count": 70
        }
      ]
    },
    {
      "cell_type": "markdown",
      "source": [
        "45 of them are greater than 3000, which is pretty close to the theortical estimate of 40."
      ],
      "metadata": {
        "id": "hEDwsXz0fYYk"
      }
    },
    {
      "cell_type": "markdown",
      "source": [
        "**2. c. Group the dataset by the Group field and compute the mean and standard deviation of\n",
        "Feature_3 within each group.**"
      ],
      "metadata": {
        "id": "NTcq2ESDffxe"
      }
    },
    {
      "cell_type": "markdown",
      "source": [
        "Means:"
      ],
      "metadata": {
        "id": "rCmrXgG5gEl7"
      }
    },
    {
      "cell_type": "code",
      "source": [
        "df.groupby('Group')['Feature_3'].mean()"
      ],
      "metadata": {
        "colab": {
          "base_uri": "https://localhost:8080/"
        },
        "id": "ZlFXVaeFfnck",
        "outputId": "02f878ff-f6f8-4b30-95e7-b967d8ffb53d"
      },
      "execution_count": 72,
      "outputs": [
        {
          "output_type": "execute_result",
          "data": {
            "text/plain": [
              "Group\n",
              "A    5494.479679\n",
              "B    5036.759705\n",
              "C   -2105.400586\n",
              "Name: Feature_3, dtype: float64"
            ]
          },
          "metadata": {},
          "execution_count": 72
        }
      ]
    },
    {
      "cell_type": "markdown",
      "source": [
        "Standard deviations:"
      ],
      "metadata": {
        "id": "nB5JNpT-gGgV"
      }
    },
    {
      "cell_type": "code",
      "source": [
        "df.groupby('Group')['Feature_3'].std()"
      ],
      "metadata": {
        "colab": {
          "base_uri": "https://localhost:8080/"
        },
        "id": "d4pF7uu6f9NU",
        "outputId": "dfd57e59-ee06-4c33-a8b4-ae9124bc63a4"
      },
      "execution_count": 73,
      "outputs": [
        {
          "output_type": "execute_result",
          "data": {
            "text/plain": [
              "Group\n",
              "A    929.416808\n",
              "B    599.980084\n",
              "C    292.094937\n",
              "Name: Feature_3, dtype: float64"
            ]
          },
          "metadata": {},
          "execution_count": 73
        }
      ]
    },
    {
      "cell_type": "markdown",
      "source": [
        "**3. Make a scatterplot of Feature_3 vs Feature_1.**"
      ],
      "metadata": {
        "id": "vUHpEffCgb76"
      }
    },
    {
      "cell_type": "code",
      "source": [
        "plt.scatter(df.Feature_1, df.Feature_3)"
      ],
      "metadata": {
        "colab": {
          "base_uri": "https://localhost:8080/",
          "height": 447
        },
        "id": "WI59x9gthSsZ",
        "outputId": "86f175cc-27ed-4b74-d0ac-737730f6303d"
      },
      "execution_count": 76,
      "outputs": [
        {
          "output_type": "execute_result",
          "data": {
            "text/plain": [
              "<matplotlib.collections.PathCollection at 0x78d5029a3790>"
            ]
          },
          "metadata": {},
          "execution_count": 76
        },
        {
          "output_type": "display_data",
          "data": {
            "text/plain": [
              "<Figure size 640x480 with 1 Axes>"
            ],
            "image/png": "[encoded data removed]"
          },
          "metadata": {}
        }
      ]
    },
    {
      "cell_type": "markdown",
      "source": [
        "**4. Write your constructed dataframe to a csv file called fake_data.csv.**"
      ],
      "metadata": {
        "id": "IBRh5XqJh88N"
      }
    },
    {
      "cell_type": "code",
      "source": [
        "df.to_csv('fake_data.csv')"
      ],
      "metadata": {
        "id": "OO5elu9ViCd7"
      },
      "execution_count": 77,
      "outputs": []
    }
  ]
}